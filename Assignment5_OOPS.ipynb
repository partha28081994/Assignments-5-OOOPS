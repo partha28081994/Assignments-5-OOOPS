{
 "cells": [
  {
   "cell_type": "markdown",
   "id": "445cffdd-2793-4748-9553-bb9c83cc6cf7",
   "metadata": {},
   "source": [
    "# 1. What are the five key concepts of Object-Oriented Programming (OOP)?"
   ]
  },
  {
   "cell_type": "markdown",
   "id": "bd2cf00b-629a-4589-bbfc-54eefdba6b72",
   "metadata": {},
   "source": [
    "The five key concepts of Object-Oriented Programming (OOP) are:\n",
    "\n",
    "1. Encapsulation\n",
    "\n",
    "Definition: Encapsulation involves bundling data (attributes) and methods (functions) that operate on the data into a single unit, typically a class. It also restricts direct access to some components of an object to protect data integrity.\n",
    "Benefits:\n",
    "Hides internal implementation details (data hiding).\n",
    "Promotes modularity and prevents unauthorized access.\n",
    "\n",
    "2. Abstraction\n",
    "    \n",
    "Definition: Abstraction hides complexity by exposing only the essential features of an object while concealing the implementation details.\n",
    "Benefits:\n",
    "Simplifies the user interface.\n",
    "Focuses on what an object does rather than how it does it.\n",
    "\n",
    "3. Inheritance\n",
    "\n",
    "Definition: Inheritance allows a class (child or subclass) to inherit attributes and methods from another class (parent or superclass). This promotes code reuse and establishes a relationship between classes.\n",
    "Benefits:\n",
    "Reduces code duplication.\n",
    "Enables hierarchical classification.\n",
    "\n",
    "4. Polymorphism\n",
    "    \n",
    "Definition: Polymorphism allows objects of different classes to be treated as objects of a common superclass. It provides a unified interface for different data types or class implementations.\n",
    "Benefits:\n",
    "Enhances flexibility and maintainability.\n",
    "Simplifies method invocation across different objects.\n",
    "\n",
    "5. Composition\n",
    "\n",
    "Definition: Composition involves creating complex objects by combining simpler ones.\n",
    "Benefits:\n",
    "Promotes modularity.\n",
    "Offers flexibility by allowing changes to individual components without affecting the entire system."
   ]
  },
  {
   "cell_type": "markdown",
   "id": "28e8eac0-fc4d-4c23-9761-b72ef3823b4e",
   "metadata": {},
   "source": [
    "# 2. Write a Python class for a `Car` with attributes for `make`, `model`, and `year`. Include a method to display the car's information."
   ]
  },
  {
   "cell_type": "code",
   "execution_count": 3,
   "id": "d48a0b7e-78d3-4a32-9b51-48f80ad7f815",
   "metadata": {},
   "outputs": [
    {
     "name": "stdout",
     "output_type": "stream",
     "text": [
      "Car Information:  Honda City 2024\n"
     ]
    }
   ],
   "source": [
    "class Car:\n",
    "    def __init__(self, make, model, year):\n",
    "        self.make = make\n",
    "        self.model = model\n",
    "        self.year = year\n",
    "\n",
    "    def display_info(self):\n",
    "        print(f\"Car Information:  {self.make} {self.model} {self.year}\")\n",
    "\n",
    "my_car = Car(\"Honda\", \"City\", 2024)\n",
    "my_car.display_info()\n"
   ]
  },
  {
   "cell_type": "markdown",
   "id": "a4eaa9d8-6f8a-4300-9f97-222c03df903d",
   "metadata": {},
   "source": [
    "# 3. Explain the difference between instance methods and class methods. Provide an example of each."
   ]
  },
  {
   "cell_type": "markdown",
   "id": "1802f49b-0409-4593-910f-0373488c088f",
   "metadata": {},
   "source": [
    "Difference Between Instance Methods and Class Methods\n",
    "\n",
    "1.Definition:\n",
    "\n",
    "Instance Methods: These are methods that operate on an instance of a class. They can access and modify instance-specific attributes.\n",
    "Class Methods: These are methods that operate on the class itself rather than on its instances. They deal with class-level data or behavior.\n",
    "\n",
    "2.Decorator:\n",
    "\n",
    "Instance Methods: Do not require a special decorator.\n",
    "Class Methods: Use the @classmethod decorator.\n",
    "\n",
    "3.First Parameter:\n",
    "\n",
    "Instance Methods: The first parameter is self, which refers to the specific instance.\n",
    "Class Methods: The first parameter is cls, which refers to the class itself.\n",
    "\n",
    "4.Usage:\n",
    "\n",
    "Instance Methods: Used to work with individual objects and their attributes.\n",
    "Class Methods: Used for operations that involve the class as a whole, such as factory methods or modifying class-level attributes.\n",
    "\n",
    "5.Access:\n",
    "\n",
    "Instance Methods: Can access both instance and class attributes.\n",
    "Class Methods: Can only access class attributes but not instance-specific attributes."
   ]
  },
  {
   "cell_type": "markdown",
   "id": "2437c3a3-f525-4a7e-bb93-6bdb88ba0fd5",
   "metadata": {},
   "source": [
    "# 4. How does Python implement method overloading? Give an example."
   ]
  },
  {
   "cell_type": "code",
   "execution_count": 7,
   "id": "9490350e-c739-4387-b541-11051614c0e8",
   "metadata": {},
   "outputs": [
    {
     "name": "stdout",
     "output_type": "stream",
     "text": [
      "8\n",
      "10\n",
      "Unsupported type\n",
      "A\n",
      "B\n"
     ]
    }
   ],
   "source": [
    "\"\"\"Python does not support traditional method overloading like some other programming languages (e.g., Java or C++). Instead, Python allows defining a single method that can handle different types or numbers of arguments using techniques like:\n",
    "\n",
    "1. Default Arguments: Providing default values for parameters.\n",
    "2. Variable-Length Arguments: Using *args or **kwargs to accept a flexible number of arguments.\n",
    "3. Type Checking: Handling different types of inputs explicitly within the method.\n",
    "\n",
    "Example of Method Overloading in Python\n",
    "\n",
    "Here's how Python achieves method overloading using default arguments and *args:\"\"\"\n",
    "class Calculator:\n",
    "    def add(self, *args):\n",
    "        return sum(args)\n",
    "\n",
    "calc = Calculator()\n",
    "print(calc.add(3, 5))\n",
    "print(calc.add(1, 2, 3, 4))\n",
    "\n",
    "\"\"\"Using Type Checking for Overloading Behavior\"\"\"\n",
    "class Printer:\n",
    "    def print_data(self, data):\n",
    "        if isinstance(data, list):\n",
    "            for item in data:\n",
    "                print(item)\n",
    "        elif isinstance(data, str):\n",
    "            print(data)\n",
    "        else:\n",
    "            print(\"Unsupported type\")\n",
    "\n",
    "printer = Printer()\n",
    "printer.print_data(10)\n",
    "printer.print_data([\"A\", \"B\"])\n",
    "\n"
   ]
  },
  {
   "cell_type": "markdown",
   "id": "acdefd6e-a517-4477-be12-6d912e897eaf",
   "metadata": {},
   "source": [
    "# 5. What are the three types of access modifiers in Python? How are they denoted?"
   ]
  },
  {
   "cell_type": "code",
   "execution_count": 8,
   "id": "4c6b0565-15f5-4ffa-be46-7eced92331fd",
   "metadata": {},
   "outputs": [
    {
     "name": "stdout",
     "output_type": "stream",
     "text": [
      "Toyota\n",
      "Car brand: Toyota\n",
      "Electric car engine: Electric\n",
      "Electric\n",
      "Engine type: V8\n"
     ]
    }
   ],
   "source": [
    "\"\"\"In Python, there are three types of access modifiers to define the accessibility of class members (attributes and methods). These are:\n",
    "\n",
    "1. Public\n",
    "Definition: Public members are accessible from anywhere, both inside and outside the class.\n",
    "Denotation: No special notation; public members are defined normally.\n",
    "Example:\"\"\"\n",
    "\n",
    "class Car:\n",
    "    def __init__(self, brand):\n",
    "        self.brand = brand \n",
    "\n",
    "    def display_brand(self):\n",
    "        print(f\"Car brand: {self.brand}\")\n",
    "\n",
    "my_car = Car(\"Toyota\")\n",
    "print(my_car.brand)\n",
    "my_car.display_brand()\n",
    "\n",
    "\"\"\"2. Protected\n",
    "Definition: Protected members are intended to be accessed within the class and its subclasses. However, they can still be accessed outside the class (not enforced strictly by Python).\n",
    "Denotation: Prefixed with a single underscore _.\n",
    "Example:\"\"\"\n",
    "\n",
    "class Car:\n",
    "    def __init__(self, brand, engine):\n",
    "        self._engine = engine\n",
    "\n",
    "    def _engine_info(self):\n",
    "        print(f\"Engine type: {self._engine}\")\n",
    "\n",
    "class ElectricCar(Car):\n",
    "    def display_engine(self):\n",
    "        print(f\"Electric car engine: {self._engine}\")\n",
    "\n",
    "my_car = ElectricCar(\"Tesla\", \"Electric\")\n",
    "my_car.display_engine() \n",
    "print(my_car._engine)    \n",
    "\n",
    "\"\"\"3. Private\n",
    "Definition: Private members are accessible only within the class where they are defined. Python enforces this using name mangling.\n",
    "Denotation: Prefixed with a double underscore __.\n",
    "Example:\"\"\"\n",
    "class Car:\n",
    "    def __init__(self, brand, engine):\n",
    "        self.__engine = engine\n",
    "\n",
    "    def __engine_info(self):\n",
    "        print(f\"Engine type: {self.__engine}\")\n",
    "\n",
    "    def display_engine(self):\n",
    "        self.__engine_info()\n",
    "\n",
    "my_car = Car(\"Toyota\", \"V8\")\n",
    "my_car.display_engine() \n",
    "\n"
   ]
  },
  {
   "cell_type": "markdown",
   "id": "7855506c-aa41-4a9f-b80a-c4aa57f1dd70",
   "metadata": {},
   "source": [
    "# 6. Describe the five types of inheritance in Python. Provide a simple example of multiple inheritance."
   ]
  },
  {
   "cell_type": "code",
   "execution_count": 10,
   "id": "8bacb399-02ec-4bd1-8c21-9b8c4fa0903b",
   "metadata": {},
   "outputs": [
    {
     "name": "stdout",
     "output_type": "stream",
     "text": [
      "Hello from Parent!\n",
      "Hello from Parent1!\n",
      "Goodbye from Parent2!\n",
      "Hello from Grandparent!\n",
      "Hello from Parent!\n",
      "Hello from Parent!\n",
      "Method from Parent1\n",
      "Method from Parent2\n",
      "Car has a Petrol Engine and 4 wheels.\n"
     ]
    },
    {
     "data": {
      "text/plain": [
       "'In this example, the Car class inherits from both Engine and Wheels, combining their functionality.'"
      ]
     },
     "execution_count": 10,
     "metadata": {},
     "output_type": "execute_result"
    }
   ],
   "source": [
    "\"\"\"Five Types of Inheritance in Python:\n",
    "\n",
    "1. Single Inheritance\n",
    "\n",
    "A child class inherits from a single parent class.\n",
    "Example:\"\"\"\n",
    "\n",
    "class Parent:\n",
    "    def greet(self):\n",
    "        print(\"Hello from Parent!\")\n",
    "\n",
    "class Child(Parent):\n",
    "    pass\n",
    "\n",
    "child = Child()\n",
    "child.greet()\n",
    "\n",
    "\"\"\"2.Multiple Inheritance\n",
    "\n",
    "A child class inherits from more than one parent class.\n",
    "Example:\"\"\"\n",
    "\n",
    "class Parent1:\n",
    "    def greet(self):\n",
    "        print(\"Hello from Parent1!\")\n",
    "\n",
    "class Parent2:\n",
    "    def farewell(self):\n",
    "        print(\"Goodbye from Parent2!\")\n",
    "\n",
    "class Child(Parent1, Parent2):\n",
    "    pass\n",
    "\n",
    "child = Child()\n",
    "child.greet()\n",
    "child.farewell()\n",
    "\n",
    "\"\"\"3.Multilevel Inheritance\n",
    "\n",
    "A child class inherits from a parent class, and that parent class inherits from another class.\n",
    "Example:\"\"\"\n",
    "\n",
    "class Grandparent:\n",
    "    def greet(self):\n",
    "        print(\"Hello from Grandparent!\")\n",
    "\n",
    "class Parent(Grandparent):\n",
    "    pass\n",
    "\n",
    "class Child(Parent):\n",
    "    pass\n",
    "\n",
    "child = Child()\n",
    "child.greet()\n",
    "\n",
    "\"\"\"4.Hierarchical Inheritance\n",
    "\n",
    "Multiple child classes inherit from a single parent class.\n",
    "Example:\"\"\"\n",
    "\n",
    "class Parent:\n",
    "    def greet(self):\n",
    "        print(\"Hello from Parent!\")\n",
    "\n",
    "class Child1(Parent):\n",
    "    pass\n",
    "\n",
    "class Child2(Parent):\n",
    "    pass\n",
    "\n",
    "child1 = Child1()\n",
    "child1.greet()\n",
    "\n",
    "child2 = Child2()\n",
    "child2.greet()\n",
    "\n",
    "\"\"\"5.Hybrid Inheritance\n",
    "\n",
    "A combination of two or more types of inheritance, forming a complex inheritance hierarchy.\n",
    "Example:\"\"\"\n",
    "\n",
    "class Parent1:\n",
    "    def method1(self):\n",
    "        print(\"Method from Parent1\")\n",
    "\n",
    "class Parent2:\n",
    "    def method2(self):\n",
    "        print(\"Method from Parent2\")\n",
    "\n",
    "class Child1(Parent1):\n",
    "    pass\n",
    "\n",
    "class Child2(Parent1, Parent2):\n",
    "    pass\n",
    "\n",
    "child2 = Child2()\n",
    "child2.method1()\n",
    "child2.method2()\n",
    "\n",
    "\n",
    "\"\"\"Example of Multiple Inheritance\"\"\"\n",
    "\n",
    "class Engine:\n",
    "    def engine_type(self):\n",
    "        return \"Petrol Engine\"\n",
    "\n",
    "class Wheels:\n",
    "    def number_of_wheels(self):\n",
    "        return 4\n",
    "\n",
    "class Car(Engine, Wheels):\n",
    "    def car_details(self):\n",
    "        print(f\"Car has a {self.engine_type()} and {self.number_of_wheels()} wheels.\")\n",
    "\n",
    "my_car = Car()\n",
    "my_car.car_details()\n",
    "\"\"\"In this example, the Car class inherits from both Engine and Wheels, combining their functionality.\"\"\""
   ]
  },
  {
   "cell_type": "markdown",
   "id": "9da6c568-3ec1-42e6-aeeb-17f4cfc2c058",
   "metadata": {},
   "source": [
    "# 7. What is the Method Resolution Order (MRO) in Python? How can you retrieve it programmatically?"
   ]
  },
  {
   "cell_type": "code",
   "execution_count": 11,
   "id": "9a73e6ca-feb6-4e9b-88fc-ca4652cd62a3",
   "metadata": {},
   "outputs": [
    {
     "name": "stdout",
     "output_type": "stream",
     "text": [
      "(<class '__main__.D'>, <class '__main__.B'>, <class '__main__.C'>, <class '__main__.A'>, <class 'object'>)\n",
      "[<class '__main__.D'>, <class '__main__.B'>, <class '__main__.C'>, <class '__main__.A'>, <class 'object'>]\n",
      "Help on class D in module __main__:\n",
      "\n",
      "class D(B, C)\n",
      " |  Method resolution order:\n",
      " |      D\n",
      " |      B\n",
      " |      C\n",
      " |      A\n",
      " |      builtins.object\n",
      " |  \n",
      " |  Methods inherited from B:\n",
      " |  \n",
      " |  method(self)\n",
      " |  \n",
      " |  ----------------------------------------------------------------------\n",
      " |  Data descriptors inherited from A:\n",
      " |  \n",
      " |  __dict__\n",
      " |      dictionary for instance variables (if defined)\n",
      " |  \n",
      " |  __weakref__\n",
      " |      list of weak references to the object (if defined)\n",
      "\n"
     ]
    }
   ],
   "source": [
    "\"\"\"The Method Resolution Order (MRO) in Python is the order in which Python looks for a method or attribute in a hierarchy of classes. It determines the sequence of classes that are searched when a method is called on an object.\n",
    "\n",
    "MRO is particularly important in the context of multiple inheritance, where a class inherits from more than one parent class. Python uses the C3 Linearization algorithm to ensure a consistent and predictable MRO.\n",
    "\n",
    "We can retrieve the MRO of a class using:\n",
    "\n",
    "ClassName.__mro__: Returns a tuple of classes in the order of their resolution.\n",
    "ClassName.mro(): Returns a list of classes in the MRO.\n",
    "help(ClassName): Displays the MRO along with other information.\n",
    "Example of MRO\"\"\"\n",
    "\n",
    "class A:\n",
    "    def method(self):\n",
    "        print(\"Method from A\")\n",
    "\n",
    "class B(A):\n",
    "    def method(self):\n",
    "        print(\"Method from B\")\n",
    "\n",
    "class C(A):\n",
    "    def method(self):\n",
    "        print(\"Method from C\")\n",
    "\n",
    "class D(B, C):\n",
    "    pass\n",
    "\n",
    "print(D.__mro__) \n",
    "\n",
    "print(D.mro())\n",
    "\n",
    "help(D)\n"
   ]
  },
  {
   "cell_type": "markdown",
   "id": "22ef9ba5-c66f-451f-b812-422edb6dce51",
   "metadata": {},
   "source": [
    "# 8. Create an abstract base class `Shape` with an abstract method `area()`. Then create two subclasses `Circle` and `Rectangle` that implement the `area()` method."
   ]
  },
  {
   "cell_type": "code",
   "execution_count": 12,
   "id": "d0225478-bc23-4545-b5a6-d4dd824adbfd",
   "metadata": {},
   "outputs": [
    {
     "name": "stdout",
     "output_type": "stream",
     "text": [
      "Area of Circle: 78.54\n",
      "Area of Rectangle: 24\n"
     ]
    }
   ],
   "source": [
    "from abc import ABC, abstractmethod\n",
    "import math\n",
    "\n",
    "class Shape(ABC):\n",
    "    @abstractmethod\n",
    "    def area(self):\n",
    "        pass\n",
    "\n",
    "# Subclass for Circle\n",
    "class Circle(Shape):\n",
    "    def __init__(self, radius):\n",
    "        self.radius = radius\n",
    "\n",
    "    def area(self):\n",
    "        return math.pi * self.radius ** 2\n",
    "\n",
    "# Subclass for Rectangle\n",
    "class Rectangle(Shape):\n",
    "    def __init__(self, width, height):\n",
    "        self.width = width\n",
    "        self.height = height\n",
    "\n",
    "    def area(self):\n",
    "        return self.width * self.height\n",
    "\n",
    "circle = Circle(5)\n",
    "print(f\"Area of Circle: {circle.area():.2f}\")\n",
    "\n",
    "rectangle = Rectangle(4, 6)\n",
    "print(f\"Area of Rectangle: {rectangle.area()}\")\n"
   ]
  },
  {
   "cell_type": "markdown",
   "id": "72e1bee7-07bf-4265-9ba7-a519a9c96c39",
   "metadata": {},
   "source": [
    "# Q9. Demonstrate polymorphism by creating a function that can work with different shape objects to calculate and print their areas."
   ]
  },
  {
   "cell_type": "code",
   "execution_count": 1,
   "id": "37a3fa4b-cd3f-4e0a-8e8a-ef3a78888158",
   "metadata": {},
   "outputs": [
    {
     "name": "stdout",
     "output_type": "stream",
     "text": [
      "The area of the Rectangle is: 50\n",
      "The area of the Circle is: 153.93791\n",
      "The area of the Triangle is: 12.0\n"
     ]
    }
   ],
   "source": [
    "class Shape:\n",
    "    def area(self):\n",
    "        raise NotImplementedError(\"Subclasses must implement this method\")\n",
    "\n",
    "class Rectangle(Shape):\n",
    "    def __init__(self, width, height):\n",
    "        self.width = width\n",
    "        self.height = height\n",
    "\n",
    "    def area(self):\n",
    "        return self.width * self.height\n",
    "\n",
    "class Circle(Shape):\n",
    "    def __init__(self, radius):\n",
    "        self.radius = radius\n",
    "\n",
    "    def area(self):\n",
    "        return 3.14159 * (self.radius ** 2)\n",
    "\n",
    "class Triangle(Shape):\n",
    "    def __init__(self, base, height):\n",
    "        self.base = base\n",
    "        self.height = height\n",
    "\n",
    "    def area(self):\n",
    "        return 0.5 * self.base * self.height\n",
    "\n",
    "def print_area(shape):\n",
    "    print(f\"The area of the {shape.__class__.__name__} is: {shape.area()}\")\n",
    "\n",
    "rectangle = Rectangle(width=10, height=5)\n",
    "circle = Circle(radius=7)\n",
    "triangle = Triangle(base=6, height=4)\n",
    "\n",
    "# Demonstrate polymorphism\n",
    "shapes = [rectangle, circle, triangle]\n",
    "for shape in shapes:\n",
    "    print_area(shape)\n"
   ]
  },
  {
   "cell_type": "markdown",
   "id": "2768e333-9518-4923-8d30-53f32bd4dd3a",
   "metadata": {},
   "source": [
    "# Q10. Implement encapsulation in a `BankAccount` class with private attributes for `balance` and `account_number`. Include methods for deposit, withdrawal, and balance inquiry.\n",
    "\n"
   ]
  },
  {
   "cell_type": "code",
   "execution_count": 2,
   "id": "9ba6f5a3-271f-4382-8f18-bc5917ec8d8f",
   "metadata": {},
   "outputs": [
    {
     "name": "stdout",
     "output_type": "stream",
     "text": [
      "Deposited: 500. New balance: 1500\n",
      "Withdrawn: 300. New balance: 1200\n",
      "Insufficient funds!\n",
      "Balance inquiry: 1200\n",
      "Account Number: 1234567890\n"
     ]
    }
   ],
   "source": [
    "class BankAccount:\n",
    "    def __init__(self, account_number, initial_balance=0):\n",
    "        self.__account_number = account_number\n",
    "        self.__balance = initial_balance\n",
    "\n",
    "    # Method to deposit money\n",
    "    def deposit(self, amount):\n",
    "        if amount > 0:\n",
    "            self.__balance += amount\n",
    "            print(f\"Deposited: {amount}. New balance: {self.__balance}\")\n",
    "        else:\n",
    "            print(\"Deposit amount must be positive!\")\n",
    "\n",
    "    # Method to withdraw money\n",
    "    def withdraw(self, amount):\n",
    "        if amount > 0:\n",
    "            if amount <= self.__balance:\n",
    "                self.__balance -= amount\n",
    "                print(f\"Withdrawn: {amount}. New balance: {self.__balance}\")\n",
    "            else:\n",
    "                print(\"Insufficient funds!\")\n",
    "        else:\n",
    "            print(\"Withdrawal amount must be positive!\")\n",
    "\n",
    "    # Method to inquire balance\n",
    "    def get_balance(self):\n",
    "        return self.__balance\n",
    "\n",
    "    # Method to get account number\n",
    "    def get_account_number(self):\n",
    "        return self.__account_number\n",
    "\n",
    "account = BankAccount(account_number=\"1234567890\", initial_balance=1000)\n",
    "\n",
    "# Deposit money\n",
    "account.deposit(500)\n",
    "\n",
    "# Withdraw money\n",
    "account.withdraw(300)\n",
    "\n",
    "# Attempt to withdraw more than the balance\n",
    "account.withdraw(1500)\n",
    "\n",
    "# Check balance\n",
    "print(f\"Balance inquiry: {account.get_balance()}\")\n",
    "\n",
    "# Access account number\n",
    "print(f\"Account Number: {account.get_account_number()}\")\n"
   ]
  },
  {
   "cell_type": "markdown",
   "id": "34cdaa75-dfed-4702-9b5a-b3e7882f37a8",
   "metadata": {},
   "source": [
    "# Q11. Write a class that overrides the `__str__` and `__add__` magic methods. What will these methods allow you to do?"
   ]
  },
  {
   "cell_type": "code",
   "execution_count": 5,
   "id": "fec58f71-c626-483c-b347-c87804732c44",
   "metadata": {},
   "outputs": [
    {
     "name": "stdout",
     "output_type": "stream",
     "text": [
      "CustomNumber(10)\n",
      "CustomNumber(30)\n"
     ]
    }
   ],
   "source": [
    "class CustomNumber:\n",
    "    def __init__(self, value):\n",
    "        self.value = value\n",
    "\n",
    "    # Overriding the __str__ method\n",
    "    def __str__(self):\n",
    "        return f\"CustomNumber({self.value})\"\n",
    "\n",
    "    # Overriding the __add__ method\n",
    "    def __add__(self, other):\n",
    "        if isinstance(other, CustomNumber):\n",
    "            return CustomNumber(self.value + other.value)\n",
    "        return NotImplemented\n",
    "\n",
    "# Example usage\n",
    "num1 = CustomNumber(10)\n",
    "num2 = CustomNumber(20)\n",
    "\n",
    "# Printing the object (__str__ method)\n",
    "print(num1)\n",
    "\n",
    "# Adding two objects (__add__ method)\n",
    "result = num1 + num2\n",
    "print(result)\n",
    "\n",
    "\n",
    "\n",
    "# 1) __str__: Makes the objects user-friendly when printed, aiding in debugging or displaying information.\n",
    "# 2) __add__: Enables custom behavior for the + operator, allowing meaningful operations between objects, such as adding their values.\n",
    "\n",
    "# Without these methods:\n",
    "# 1) print(num1) would show the default memory location of the object.\n",
    "# 2) num1 + num2 would raise a TypeError since Python does not know how to add these objects.\n"
   ]
  },
  {
   "cell_type": "markdown",
   "id": "668776dd-3393-46ad-9ef7-d0284ca04be9",
   "metadata": {},
   "source": [
    "# Q12. Create a decorator that measures and prints the execution time of a function."
   ]
  },
  {
   "cell_type": "code",
   "execution_count": 9,
   "id": "1fa23707-f518-40d0-94c3-3e136ba022f3",
   "metadata": {},
   "outputs": [
    {
     "name": "stdout",
     "output_type": "stream",
     "text": [
      "Execution time of example_function: 0.1242 seconds\n",
      "Result: 49999995000000\n"
     ]
    }
   ],
   "source": [
    "import time\n",
    "\n",
    "def measure_execution_time(func):\n",
    "    def wrapper(*args, **kwargs):\n",
    "        start_time = time.time() \n",
    "        result = func(*args, **kwargs)\n",
    "        end_time = time.time()\n",
    "        execution_time = end_time - start_time\n",
    "        print(f\"Execution time of {func.__name__}: {execution_time:.4f} seconds\")\n",
    "        return result\n",
    "    return wrapper\n",
    "\n",
    "# Example usage\n",
    "@measure_execution_time\n",
    "def example_function(n):\n",
    "    total = 0\n",
    "    for i in range(n):\n",
    "        total += i\n",
    "    return total\n",
    "\n",
    "# Call the decorated function\n",
    "result = example_function(10_000_000)\n",
    "print(f\"Result: {result}\")"
   ]
  },
  {
   "cell_type": "markdown",
   "id": "37a16def-df56-4293-8165-39d95af26171",
   "metadata": {},
   "source": [
    "# Q13. Explain the concept of the Diamond Problem in multiple inheritance. How does Python resolve it?"
   ]
  },
  {
   "cell_type": "code",
   "execution_count": 13,
   "id": "3d2cef87-4b35-4085-b473-48ceb3db5ef8",
   "metadata": {},
   "outputs": [
    {
     "name": "stdout",
     "output_type": "stream",
     "text": [
      "Hello from B\n",
      "[<class '__main__.D'>, <class '__main__.B'>, <class '__main__.C'>, <class '__main__.A'>, <class 'object'>]\n"
     ]
    },
    {
     "data": {
      "text/plain": [
       "'This indicates that Python will first look in D, then B, then C, then A, and finally in the base object class.'"
      ]
     },
     "execution_count": 13,
     "metadata": {},
     "output_type": "execute_result"
    }
   ],
   "source": [
    "\"\"\"The Diamond Problem arises in object-oriented programming with multiple inheritance when a class inherits from two classes that both inherit from a common base class. This creates ambiguity because the derived class can inherit the same attributes or methods from multiple paths.\n",
    "\n",
    "The Diamond Shape\n",
    "Consider the following class hierarchy:\n",
    "       A\n",
    "      / \\\n",
    "     B   C\n",
    "      \\ /\n",
    "       D\n",
    "A is the base class.\n",
    "B and C inherit from A.\n",
    "D inherits from both B and C.\n",
    "When D tries to access a method or attribute defined in A, it’s ambiguous whether it should follow the path D -> B -> A or D -> C -> A.\"\"\"\n",
    "\n",
    "class A:\n",
    "    def greet(self):\n",
    "        print(\"Hello from A\")\n",
    "\n",
    "class B(A):\n",
    "    def greet(self):\n",
    "        print(\"Hello from B\")\n",
    "\n",
    "class C(A):\n",
    "    def greet(self):\n",
    "        print(\"Hello from C\")\n",
    "\n",
    "class D(B, C):\n",
    "    pass\n",
    "\n",
    "# Create an instance of D\n",
    "obj = D()\n",
    "obj.greet()\n",
    "\n",
    "\"\"\"Python addresses the diamond problem using the Method Resolution Order (MRO), which determines the order in which base classes are searched when executing a method. Python employs the C3 linearization algorithm to establish a consistent MRO.\n",
    "\n",
    "To view the MRO of a class, we can use the mro() method:\"\"\"\n",
    "\n",
    "print(D.mro())\n",
    "\n",
    "\"\"\"This indicates that Python will first look in D, then B, then C, then A, and finally in the base object class.\"\"\""
   ]
  },
  {
   "cell_type": "markdown",
   "id": "ec68b0d0-364f-4bfc-8089-4546a5c8b57a",
   "metadata": {},
   "source": [
    "# Q14. Write a class method that keeps track of the number of instances created from a class."
   ]
  },
  {
   "cell_type": "code",
   "execution_count": 14,
   "id": "c3b084d1-37b1-4ca4-b23d-30361102999b",
   "metadata": {},
   "outputs": [
    {
     "name": "stdout",
     "output_type": "stream",
     "text": [
      "Number of instances created: 3\n"
     ]
    }
   ],
   "source": [
    "class InstanceCounter:\n",
    "    instance_count = 0\n",
    "    def __init__(self):\n",
    "        InstanceCounter.instance_count += 1\n",
    "\n",
    "    @classmethod\n",
    "    def get_instance_count(cls):\n",
    "        return cls.instance_count\n",
    "\n",
    "# Example usage\n",
    "obj1 = InstanceCounter()\n",
    "obj2 = InstanceCounter()\n",
    "obj3 = InstanceCounter()\n",
    "\n",
    "print(f\"Number of instances created: {InstanceCounter.get_instance_count()}\")\n"
   ]
  },
  {
   "cell_type": "markdown",
   "id": "158734c9-18c1-41ce-82b9-ff058ecacfdb",
   "metadata": {},
   "source": [
    "# Q15. Implement a static method in a class that checks if a given year is a leap year."
   ]
  },
  {
   "cell_type": "code",
   "execution_count": 15,
   "id": "078e0109-bf46-445d-ab0e-3a7ee9815b82",
   "metadata": {},
   "outputs": [
    {
     "name": "stdout",
     "output_type": "stream",
     "text": [
      "True\n",
      "False\n",
      "True\n"
     ]
    }
   ],
   "source": [
    "class YearUtils:\n",
    "    @staticmethod\n",
    "    def is_leap_year(year):\n",
    "        \"\"\"Check if a year is a leap year.\"\"\"\n",
    "        if (year % 4 == 0 and year % 100 != 0) or (year % 400 == 0):\n",
    "            return True\n",
    "        return False\n",
    "\n",
    "print(YearUtils.is_leap_year(2024))\n",
    "print(YearUtils.is_leap_year(1900))\n",
    "print(YearUtils.is_leap_year(2000))\n"
   ]
  },
  {
   "cell_type": "code",
   "execution_count": null,
   "id": "0811f32d-fbc4-432d-abf9-41c69e1aaeb5",
   "metadata": {},
   "outputs": [],
   "source": []
  }
 ],
 "metadata": {
  "kernelspec": {
   "display_name": "Python 3 (ipykernel)",
   "language": "python",
   "name": "python3"
  },
  "language_info": {
   "codemirror_mode": {
    "name": "ipython",
    "version": 3
   },
   "file_extension": ".py",
   "mimetype": "text/x-python",
   "name": "python",
   "nbconvert_exporter": "python",
   "pygments_lexer": "ipython3",
   "version": "3.11.5"
  }
 },
 "nbformat": 4,
 "nbformat_minor": 5
}
